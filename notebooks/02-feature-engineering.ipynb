{
 "cells": [
  {
   "cell_type": "markdown",
   "metadata": {},
   "source": [
    "# Feature Engineering for Crypto Trading AI\n",
    "\n",
    "This notebook focuses on creating and selecting features that will be used in the AI models for crypto trading. Feature engineering is a crucial step in the machine learning pipeline as it can significantly impact the performance of the models."
   ]
  },
  {
   "cell_type": "code",
   "execution_count": null,
   "metadata": {
    "id": "feature-engineering-setup"
   },
   "outputs": [],
   "source": [
    "# Import necessary libraries\n",
    "import pandas as pd\n",
    "import numpy as np\n",
    "import matplotlib.pyplot as plt\n",
    "import seaborn as sns\n",
    "\n",
    "# Set visualization style\n",
    "sns.set(style='whitegrid')\n",
    "\n",
    "# Load processed data\n",
    "data = pd.read_csv('../data/processed/processed_data.csv')\n",
    "data.head()"
   ]
  },
  {
   "cell_type": "markdown",
   "metadata": {},
   "source": [
    "## Feature Creation\n",
    "\n",
    "In this section, we will create new features based on the existing data. This may include technical indicators, lagged values, and other relevant metrics."
   ]
  },
  {
   "cell_type": "code",
   "execution_count": null,
   "metadata": {
    "id": "feature-creation"
   },
   "outputs": [],
   "source": [
    "# Example: Creating a simple moving average feature\n",
    "def add_sma(data, window):\n",
    "    data[f'sma_{window}'] = data['close'].rolling(window=window).mean()\n",
    "\n",
    "# Add SMA features\n",
    "for window in [5, 10, 20]:\n",
    "    add_sma(data, window)\n",
    "\n",
    "# Display the updated data\n",
    "data[['close', 'sma_5', 'sma_10', 'sma_20']].tail(10)"
   ]
  },
  {
   "cell_type": "markdown",
   "metadata": {},
   "source": [
    "## Feature Selection\n",
    "\n",
    "After creating features, we need to select the most relevant ones for our model. This can be done using various techniques such as correlation analysis, feature importance from models, or recursive feature elimination."
   ]
  },
  {
   "cell_type": "code",
   "execution_count": null,
   "metadata": {
    "id": "feature-selection"
   },
   "outputs": [],
   "source": [
    "# Example: Correlation matrix to identify important features\n",
    "plt.figure(figsize=(12, 8))\n",
    "correlation_matrix = data.corr()\n",
    "sns.heatmap(correlation_matrix, annot=True, fmt='.2f', cmap='coolwarm')\n",
    "plt.title('Correlation Matrix of Features')\n",
    "plt.show()"
   ]
  },
  {
   "cell_type": "markdown",
   "metadata": {},
   "source": [
    "## Conclusion\n",
    "\n",
    "In this notebook, we have performed feature engineering for our crypto trading AI project. We created new features and explored methods for feature selection. The next steps will involve using these features in model training and evaluation."
   ]
  }
 ],
 "metadata": {
  "kernelspec": {
   "display_name": "Python 3",
   "language": "python",
   "name": "python3"
  },
  "language_info": {
   "codemirror_mode": {
    "name": "ipython",
    "version": 3
   },
   "file_extension": ".py",
   "mimetype": "text/x-python",
   "name": "python",
   "nbconvert_exporter": "python",
   "pygments_lexer": "ipython3",
   "version": "3.8.5"
  }
 },
 "nbformat": 4,
 "nbformat_minor": 4
}